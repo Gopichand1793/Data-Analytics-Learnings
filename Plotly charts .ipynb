{
  "cells": [
    {
      "metadata": {
        "trusted": true
      },
      "cell_type": "code",
      "source": "import plotly\nimport plotly.graph_objects as go\nimport numpy as np\nfrom plotly import graph_objs as go\nfrom plotly.subplots import make_subplots ",
      "execution_count": 4,
      "outputs": []
    },
    {
      "metadata": {
        "trusted": true
      },
      "cell_type": "code",
      "source": "# I will be consolidating the basic visualizations from the plotly official documentation of various \n# charts we generally and widely used for data understanding visually\n\n",
      "execution_count": null,
      "outputs": []
    },
    {
      "metadata": {},
      "cell_type": "markdown",
      "source": "# Scatter plot"
    },
    {
      "metadata": {
        "trusted": true
      },
      "cell_type": "code",
      "source": "\nfig = go.Figure(data=go.Scatter(\n    y = np.random.randn(500),\n    mode='markers',\n    marker=dict(\n        size=16,\n        color=np.random.randn(500), #set color equal to a variable\n        colorscale='Viridis', # one of plotly colorscales\n        showscale=True\n    )\n))\n\nfig.show()",
      "execution_count": null,
      "outputs": []
    },
    {
      "metadata": {},
      "cell_type": "markdown",
      "source": "# Line charts"
    },
    {
      "metadata": {
        "trusted": true
      },
      "cell_type": "code",
      "source": "import plotly.graph_objects as go\n\n# Create random data with numpy\nimport numpy as np\nnp.random.seed(1)\n\nN = 100\nrandom_x = np.linspace(0, 1, N)\nrandom_y0 = np.random.randn(N) + 5\nrandom_y1 = np.random.randn(N)\nrandom_y2 = np.random.randn(N) - 5\n\n# Create traces\nfig = go.Figure()\nfig.add_trace(go.Scatter(x=random_x, y=random_y0,\n                    mode='lines',\n                    name='lines'))\nfig.add_trace(go.Scatter(x=random_x, y=random_y1,\n                    mode='lines+markers',\n                    name='lines+markers'))\nfig.add_trace(go.Scatter(x=random_x, y=random_y2,\n                    mode='markers', name='markers'))\n\nfig.show()",
      "execution_count": null,
      "outputs": []
    },
    {
      "metadata": {},
      "cell_type": "markdown",
      "source": "# Stacked and Grouped Bar chart"
    },
    {
      "metadata": {
        "trusted": true
      },
      "cell_type": "code",
      "source": "#Stacked bar chart\nimport pandas as pd\na=pd.DataFrame([[1, 20, 30, 50, 1], [20, 1, 60, 80, 30], [30, 60, 1, -10, 20]], index = ['Morning', 'Afternoon', 'Evening'],\n               columns = ['Monday', 'Tuesday', 'Wednesday', 'Thursday', 'Friday'])\nb=a.apply(lambda x : x*100/x.sum(), axis = 1)\n\nc=b.unstack().reset_index()\n\ncolors = ['rgba(380, 24, 74, 0.8)', 'rgba(78, 8, 4, 0.5)',\n          'rgba(122, 12, 168, 0.8)', 'rgba(16, 16, 20, 0.4)',\n          'rgba(19, 192, 21, .5)']\n\nfig = go.Figure(go.Bar(y=c[c['level_0'] == 'Monday']['level_1'],\n                       x=c.iloc[:,2],orientation = 'h', marker=dict(color=colors[0]) , name = 'Monday'))\n\nfig.add_trace(go.Bar(y=c[c['level_0'] == 'Tuesday']['level_1'],\n                     x=c[c['level_0'] == 'Tuesday'].iloc[:,2],orientation = 'h', marker=dict(color=colors[1]), name = 'Tuesday'))\nfig.add_trace(go.Bar(y=c[c['level_0'] == 'Wednesday']['level_1'],\n                     x=c[c['level_0'] == 'Wednesday'].iloc[:,2],orientation = 'h', marker=dict(color=colors[2]), name = 'Wednesday'))\nfig.add_trace(go.Bar(y=c[c['level_0'] == 'Thursday']['level_1'],\n                     x=c[c['level_0'] == 'Thursday'].iloc[:,2],orientation = 'h', marker=dict(color=colors[3]), name = 'Thursday'))\nfig.add_trace(go.Bar(y=c[c['level_0'] == 'Friday']['level_1'],\n                     x=c[c['level_0'] == 'Friday'].iloc[:,2],orientation = 'h', marker=dict(color=colors[4]), name = 'Friday'))\n\nfig.update_layout(barmode='stack')",
      "execution_count": null,
      "outputs": []
    },
    {
      "metadata": {
        "trusted": true
      },
      "cell_type": "code",
      "source": "# Grouped chart\nyears = [1995, 1996, 1997, 1998, 1999, 2000, 2001, 2002, 2003,\n         2004, 2005, 2006, 2007, 2008, 2009, 2010, 2011, 2012]\n\nfig = go.Figure()\nfig.add_trace(go.Bar(x=years,\n                y=[219, 146, 112, 127, 124, 180, 236, 207, 236, 263,\n                   350, 430, 474, 526, 488, 537, 500, 439],\n                name='Rest of world',\n                marker_color='rgb(55, 83, 109)'\n                ))\nfig.add_trace(go.Bar(x=years,\n                y=[16, 13, 10, 11, 28, 37, 43, 55, 56, 88, 105, 156, 270,\n                   299, 340, 403, 549, 499],\n                name='China',\n                marker_color='rgb(26, 118, 255)'\n                ))\n\nfig.update_layout(\n    title='US Export of Plastic Scrap',\n    xaxis_tickfont_size=14,\n    yaxis=dict(\n        title='USD (millions)',\n        titlefont_size=16,\n        tickfont_size=14,\n    ),\n    legend=dict(\n        x=0,\n        y=1.0,\n        bgcolor='rgba(255, 255, 255, 0)',\n        bordercolor='rgba(255, 255, 255, 0)'\n    ),\n    barmode='group',\n    bargap=0.15, # gap between bars of adjacent location coordinates.\n    bargroupgap=0.1 # gap between bars of the same location coordinate.\n)\nfig.show()",
      "execution_count": null,
      "outputs": []
    },
    {
      "metadata": {
        "trusted": true
      },
      "cell_type": "code",
      "source": "#fig = go.Figure(go.Bar(y=c[c['level_0'] == 'Monday']['level_1'],x=c.iloc[:,2],orientation = 'h', marker=dict(color='rgba(38, 24, 74, 0.8)')))\n#fig.add_trace(go.Bar(y=c[c['level_0'] == 'Tuesday']['level_1'],x=c[c['level_0'] == 'Tuesday'].iloc[:,2],orientation = 'h'))\n#fig.update_layout(barmode='stack')",
      "execution_count": null,
      "outputs": []
    },
    {
      "metadata": {},
      "cell_type": "markdown",
      "source": "# Basic Heat map"
    },
    {
      "metadata": {
        "trusted": true
      },
      "cell_type": "code",
      "source": "import plotly.graph_objects as go\n\nfig = go.Figure(data=go.Heatmap(\n                   z=[[1, 20, 30, 50, 1], [20, 1, 60, 80, 30], [30, 60, 1, -10, 20]],\n                   x=['Monday', 'Tuesday', 'Wednesday', 'Thursday', 'Friday'],\n                   y=['Morning', 'Afternoon', 'Evening']))\nfig.show()",
      "execution_count": null,
      "outputs": []
    },
    {
      "metadata": {},
      "cell_type": "markdown",
      "source": "# Box Plot for Outliers and data distribution"
    },
    {
      "metadata": {
        "trusted": true
      },
      "cell_type": "code",
      "source": "\nfig = go.Figure()\nfig.add_trace(go.Box(\n    y=[0.75, 5.25, 5.5, 6, 6.2, 6.6, 6.80, 7.0, 7.2, 7.5, 7.5, 7.75, 8.15,\n       8.15, 8.65, 8.93, 9.2, 9.5, 10, 10.25, 11.5, 12, 16, 20.90, 22.3, 23.25],\n    name=\"All Points\",\n    jitter=0.3,\n    pointpos=-1.8,\n    boxpoints='all', # represent all points\n    marker_color='rgb(7,40,89)',\n    line_color='rgb(7,40,89)'\n))\n\nfig.add_trace(go.Box(\n    y=[0.75, 5.25, 5.5, 6, 6.2, 6.6, 6.80, 7.0, 7.2, 7.5, 7.5, 7.75, 8.15,\n        8.15, 8.65, 8.93, 9.2, 9.5, 10, 10.25, 11.5, 12, 16, 20.90, 22.3, 23.25],\n    name=\"Only Whiskers\",\n    boxpoints=False, # no data points\n    marker_color='rgb(9,56,125)',\n    line_color='rgb(9,56,125)'\n))\n\nfig.add_trace(go.Box(\n    y=[0.75, 5.25, 5.5, 6, 6.2, 6.6, 6.80, 7.0, 7.2, 7.5, 7.5, 7.75, 8.15,\n        8.15, 8.65, 8.93, 9.2, 9.5, 10, 10.25, 11.5, 12, 16, 20.90, 22.3, 23.25],\n    name=\"Suspected Outliers\",\n    boxpoints='suspectedoutliers', # only suspected outliers\n    marker=dict(\n        color='rgb(8,81,156)',\n        outliercolor='rgba(219, 64, 82, 0.6)',\n        line=dict(\n            outliercolor='rgba(219, 64, 82, 0.6)',\n            outlierwidth=2)),\n    line_color='rgb(8,81,156)'\n))\n\nfig.add_trace(go.Box(\n    y=[0.75, 5.25, 5.5, 6, 6.2, 6.6, 6.80, 7.0, 7.2, 7.5, 7.5, 7.75, 8.15,\n        8.15, 8.65, 8.93, 9.2, 9.5, 10, 10.25, 11.5, 12, 16, 20.90, 22.3, 23.25],\n    name=\"Whiskers and Outliers\",\n    boxpoints='outliers', # only outliers\n    marker_color='rgb(107,174,214)',\n    line_color='rgb(107,174,214)'\n))\n\n\nfig.update_layout(title_text=\"Box Plot Styling Outliers\")\nfig.show()",
      "execution_count": null,
      "outputs": []
    },
    {
      "metadata": {
        "trusted": true
      },
      "cell_type": "markdown",
      "source": "# Multiple sub plots"
    },
    {
      "metadata": {
        "trusted": true
      },
      "cell_type": "code",
      "source": "fig= make_subplots(rows = 2, cols = 2, shared_xaxes = False, shared_yaxes = False)\n\nfig.show()",
      "execution_count": null,
      "outputs": []
    }
  ],
  "metadata": {
    "kernelspec": {
      "name": "python36",
      "display_name": "Python 3.6",
      "language": "python"
    },
    "language_info": {
      "mimetype": "text/x-python",
      "nbconvert_exporter": "python",
      "name": "python",
      "pygments_lexer": "ipython3",
      "version": "3.6.6",
      "file_extension": ".py",
      "codemirror_mode": {
        "version": 3,
        "name": "ipython"
      }
    }
  },
  "nbformat": 4,
  "nbformat_minor": 1
}